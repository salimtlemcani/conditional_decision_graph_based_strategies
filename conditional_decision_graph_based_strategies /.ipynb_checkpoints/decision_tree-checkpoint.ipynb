{
 "cells": [
  {
   "cell_type": "markdown",
   "id": "ecad41455d2d2930",
   "metadata": {},
   "source": [
    "## Import Modules"
   ]
  },
  {
   "cell_type": "code",
   "execution_count": 1,
   "id": "8376e5d4e00429c9",
   "metadata": {},
   "source": [
    "import datetime as dtm\n",
    "from IPython.display import Image\n",
    "import logging\n",
    "import json\n",
    "\n",
    "from strategy_execution import basket_creation_method\n",
    "from strategy_builder import validate_specs\n",
    "\n",
    "import sigtech.framework as sig\n",
    "\n",
    "# Configure logging\n",
    "logging.basicConfig(level=logging.INFO, format='%(asctime)s - %(levelname)s - %(message)s')\n",
    "logger = logging.getLogger()\n",
    "env = sig.init()"
   ],
   "outputs": []
  },
  {
   "cell_type": "markdown",
   "id": "846ac62cc10972f",
   "metadata": {},
   "source": [
    "## Define Strategy Parameters and Load Specifications"
   ]
  },
  {
   "cell_type": "code",
   "execution_count": 2,
   "id": "9592b9e13858cda2",
   "metadata": {},
   "source": [
    "# Define ETFs with complete names\n",
    "etfs = {\n",
    "    'TLT US EQUITY': sig.obj.get('TLT US EQUITY'), \n",
    "    'TQQQ US EQUITY': sig.obj.get('TQQQ US EQUITY'),\n",
    "    'SVXY US EQUITY': sig.obj.get('SVXY US EQUITY'),\n",
    "    'VIXY US EQUITY': sig.obj.get('VIXY US EQUITY'),\n",
    "    'QQQ UP EQUITY': sig.obj.get('QQQ UP EQUITY'),\n",
    "    'SPY UP EQUITY': sig.obj.get('SPY UP EQUITY'),\n",
    "    'BND UP EQUITY': sig.obj.get('BND UP EQUITY'),\n",
    "    'BIL UP EQUITY': sig.obj.get('BIL UP EQUITY'),\n",
    "    'GLD UP EQUITY': sig.obj.get('GLD UP EQUITY'),\n",
    "}\n",
    "\n",
    "# Retrieve ETF histories\n",
    "etf_histories = {name: etf.history() for name, etf in etfs.items()}\n",
    "\n",
    "# Define date range and initial cash\n",
    "START_DATE = dtm.date(2024, 6, 2)\n",
    "END_DATE = dtm.date(2024, 6, 30)\n",
    "INITIAL_CASH = 1e6\n",
    "\n",
    "# Example dates for decision tree evaluation\n",
    "example_dates = [\n",
    "    dtm.datetime(2024, 6, 30, 14, 50, 0),\n",
    "    dtm.datetime(2024, 6, 27, 0, 0, 0),\n",
    "    dtm.datetime(2024, 6, 26, 0, 0, 0),\n",
    "    dtm.datetime(2024, 6, 25, 0, 0, 0),\n",
    "    dtm.datetime(2024, 6, 24, 0, 0, 0),\n",
    "    dtm.datetime(2024, 6, 21, 0, 0, 0),\n",
    "    dtm.datetime(2024, 6, 20, 0, 0, 0),\n",
    "    dtm.datetime(2024, 6, 18, 0, 0, 0),\n",
    "    dtm.datetime(2024, 6, 17, 0, 0, 0),\n",
    "    dtm.datetime(2024, 6, 14, 0, 0, 0),\n",
    "    dtm.datetime(2024, 6, 13, 0, 0, 0),\n",
    "    dtm.datetime(2024, 6, 12, 0, 0, 0),\n",
    "    dtm.datetime(2024, 6, 11, 0, 0, 0),\n",
    "    dtm.datetime(2024, 6, 10, 0, 0, 0),\n",
    "    dtm.datetime(2024, 6, 7, 0, 0, 0),\n",
    "    dtm.datetime(2024, 6, 6, 0, 0, 0),\n",
    "    dtm.datetime(2024, 6, 5, 0, 0, 0),\n",
    "    dtm.datetime(2024, 6, 4, 0, 0, 0),\n",
    "    dtm.datetime(2024, 6, 3, 0, 0, 0)\n",
    "]\n",
    "\n",
    "# Load condition specifications from JSON files\n",
    "with open('conditions.json', 'r') as f:\n",
    "    condition_specs = json.load(f)\n",
    "\n",
    "with open('actions.json', 'r') as f:\n",
    "    action_specs = json.load(f)\n"
   ],
   "outputs": []
  },
  {
   "cell_type": "markdown",
   "id": "d2b14c474c0694e3",
   "metadata": {},
   "source": [
    "## Initialize and Build the Strategy"
   ]
  },
  {
   "cell_type": "code",
   "execution_count": 3,
   "id": "8776f5044734b97d",
   "metadata": {},
   "source": [
    "# Validate specifications before building\n",
    "if validate_specs(condition_specs, action_specs):\n",
    "    # Initialize the Dynamic Strategy\n",
    "    strat = sig.DynamicStrategy(\n",
    "        currency='USD',\n",
    "        start_date=START_DATE,\n",
    "        end_date=END_DATE,\n",
    "        trade_frequency='1BD',\n",
    "        basket_creation_method=basket_creation_method,\n",
    "        basket_creation_kwargs={\n",
    "            'example_dates': example_dates,\n",
    "            'etf_histories': etf_histories,\n",
    "            'etfs': etfs,\n",
    "            'conditions_file': 'gui/../conditions.json',\n",
    "            'actions_file': 'gui/../actions.json'\n",
    "        },\n",
    "        initial_cash=INITIAL_CASH,\n",
    "    )\n",
    "\n",
    "    # Build the strategy\n",
    "    strat.build(progress=True)\n",
    "else:\n",
    "    logger.error(\"Invalid condition or action specifications. Strategy build aborted.\")\n"
   ],
   "outputs": []
  },
  {
   "cell_type": "code",
   "execution_count": 7,
   "id": "b014cca9-5ef5-4a54-b320-7388ea0bdaf8",
   "metadata": {},
   "source": [
    "strat.plot.performance()"
   ],
   "outputs": []
  },
  {
   "cell_type": "markdown",
   "id": "b3bef7a15bd6fd07",
   "metadata": {},
   "source": [
    "## Visualize the Decision Tree"
   ]
  },
  {
   "cell_type": "code",
   "execution_count": 4,
   "id": "a1bad2a2f1451305",
   "metadata": {},
   "source": [
    "from strategy_builder import build_decision_tree_from_specs\n",
    "\n",
    "# Build the decision tree\n",
    "decision_tree = build_decision_tree_from_specs(condition_specs, action_specs)\n",
    "\n",
    "# Plot and display the tree\n",
    "dot = decision_tree.plot_tree(decision_tree.root)\n",
    "dot.format = 'png'\n",
    "dot.render('decision_tree', view=False)\n",
    "Image(filename='decision_tree.png')"
   ],
   "outputs": []
  },
  {
   "cell_type": "code",
   "execution_count": null,
   "id": "85180f16-b973-476e-ba33-300ededfc056",
   "metadata": {},
   "source": [],
   "outputs": []
  }
 ],
 "metadata": {
  "kernelspec": {
   "display_name": "Python 3 (ipykernel)",
   "language": "python",
   "name": "python3"
  },
  "language_info": {
   "codemirror_mode": {
    "name": "ipython",
    "version": 3
   },
   "file_extension": ".py",
   "mimetype": "text/x-python",
   "name": "python",
   "nbconvert_exporter": "python",
   "pygments_lexer": "ipython3",
   "version": "3.11.9"
  }
 },
 "nbformat": 4,
 "nbformat_minor": 5
}
